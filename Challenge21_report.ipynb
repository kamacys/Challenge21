{
  "cells": [
    {
      "cell_type": "markdown",
      "metadata": {
        "id": "view-in-github",
        "colab_type": "text"
      },
      "source": [
        "<a href=\"https://colab.research.google.com/github/kamacys/Challenge21/blob/main/Challenge21_report.ipynb\" target=\"_parent\"><img src=\"https://colab.research.google.com/assets/colab-badge.svg\" alt=\"Open In Colab\"/></a>"
      ]
    },
    {
      "cell_type": "markdown",
      "metadata": {
        "id": "aP1VK5ps9wsa"
      },
      "source": [
        "## Preprocessing"
      ]
    },
    {
      "cell_type": "markdown",
      "source": [
        "Data Preprocessing\n",
        "\n",
        "1.   What variable(s) are the target(s) for your model?\n",
        "\n",
        "\n",
        "*   IS_SUCCESSFUL is the target variable\n",
        "\n",
        "\n",
        "2.   What variable(s) are the features for your model?\n",
        "\n",
        "\n",
        "*   The y contains IS_SUCCESSFUL and the X the IS_SUCCESSFUL column is dropped\n",
        "\n",
        "\n",
        "3.   What variable(s) should be removed from the input data because they are neither targets nor features?\n",
        "\n",
        "*   The first model ran with the EIN and NAME columns dropped. In the second and third models, STATUS and SPECIAL_CONSIDERATION were also dropped.\n",
        "\n",
        "Compiling, Training, and Evaluating the Model\n",
        "\n",
        "1.  How many neurons, layers, and activation functions did you select for your neural network model, and why?\n",
        "\n",
        "*   The first model and second model both have 2 layers, 9 neurons in the first and 7 in the second. I based this on the classification types and cutoff value. The third model has 3 layers- neurons split, 9, 9, and 7. I have no reason, other than I like odd numbers.\n",
        "\n",
        "2.   Were you able to achieve the target model performance?\n",
        "\n",
        "*   I was not able to get to 75%. The closest I was able to reach was 73.89% in the third model.\n",
        "\n",
        "3.   What steps did you take in your attempts to increase model performance?\n",
        "\n",
        "*   In the second model, I removed more unnecessary columns. This increased accuracy minimally.  In the third model I added a layer, which also increased the accuracy.\n",
        "\n",
        "Summary: I did more than three models, I actually spent a lot of time messing with different amounts of epochs, layers, and neurons. I did not include them in this report because the change to accuracy would go down or stay relatively the same. The 3 models reported were the most successful.\n",
        "\n",
        "\n",
        "\n",
        "\n",
        "\n",
        "\n",
        "\n",
        "\n",
        "\n",
        "\n",
        "\n",
        "\n",
        "\n",
        "\n",
        "\n",
        "\n",
        "\n",
        "\n",
        "\n",
        "\n"
      ],
      "metadata": {
        "id": "juh9kqbx-H9W"
      }
    }
  ],
  "metadata": {
    "kernelspec": {
      "display_name": "Python 3",
      "language": "python",
      "name": "python3"
    },
    "language_info": {
      "codemirror_mode": {
        "name": "ipython",
        "version": 3
      },
      "file_extension": ".py",
      "mimetype": "text/x-python",
      "name": "python",
      "nbconvert_exporter": "python",
      "pygments_lexer": "ipython3",
      "version": "3.-1.-1"
    },
    "vscode": {
      "interpreter": {
        "hash": "31f2aee4e71d21fbe5cf8b01ff0e069b9275f58929596ceb00d14d90e3e16cd6"
      }
    },
    "colab": {
      "provenance": [],
      "include_colab_link": true
    }
  },
  "nbformat": 4,
  "nbformat_minor": 0
}